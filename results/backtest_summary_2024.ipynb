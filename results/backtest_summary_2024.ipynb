{
 "cells": [
  {
   "cell_type": "markdown",
   "id": "fda0debb",
   "metadata": {},
   "source": [
    "# Keltner Backtest Summary (2024)"
   ]
  },
  {
   "cell_type": "code",
   "execution_count": null,
   "id": "23f1aa0b",
   "metadata": {},
   "outputs": [],
   "source": [
    "import pandas as pd\n",
    "summary = pd.read_csv('results/summary_backtest_2024.csv')\n",
    "summary.head()"
   ]
  },
  {
   "cell_type": "markdown",
   "id": "42ce9845",
   "metadata": {},
   "source": [
    "### Win Rate vs Number of Trades"
   ]
  },
  {
   "cell_type": "code",
   "execution_count": null,
   "id": "cd3336cb",
   "metadata": {},
   "outputs": [],
   "source": [
    "from IPython.display import Image\n",
    "Image('results/debug_winrate_vs_trades.png')"
   ]
  },
  {
   "cell_type": "markdown",
   "id": "82534d56",
   "metadata": {},
   "source": [
    "### Average Return vs Total Return"
   ]
  },
  {
   "cell_type": "code",
   "execution_count": null,
   "id": "f45dcd4d",
   "metadata": {},
   "outputs": [],
   "source": [
    "Image('results/debug_avg_vs_total_return.png')"
   ]
  },
  {
   "cell_type": "markdown",
   "id": "d1b3ced0",
   "metadata": {},
   "source": [
    "### Distribution of Average Returns"
   ]
  },
  {
   "cell_type": "code",
   "execution_count": null,
   "id": "07e9bd29",
   "metadata": {},
   "outputs": [],
   "source": [
    "Image('results/debug_return_distribution.png')"
   ]
  },
  {
   "cell_type": "markdown",
   "id": "a1769ddf",
   "metadata": {},
   "source": [
    "### Equity Curve"
   ]
  },
  {
   "cell_type": "code",
   "execution_count": null,
   "id": "89a87920",
   "metadata": {},
   "outputs": [],
   "source": [
    "Image('results/debug_equity_curve.png')"
   ]
  },
  {
   "cell_type": "markdown",
   "id": "02834697",
   "metadata": {},
   "source": [
    "### Monthly Return Distribution"
   ]
  },
  {
   "cell_type": "code",
   "execution_count": null,
   "id": "9565896e",
   "metadata": {},
   "outputs": [],
   "source": [
    "Image('results/debug_monthly_return_boxplot.png')"
   ]
  },
  {
   "cell_type": "markdown",
   "id": "485c9dc4",
   "metadata": {},
   "source": [
    "### Drawdown Curve"
   ]
  },
  {
   "cell_type": "code",
   "execution_count": null,
   "id": "763637ac",
   "metadata": {},
   "outputs": [],
   "source": [
    "Image('results/debug_drawdown.png')"
   ]
  },
  {
   "cell_type": "markdown",
   "id": "62434b4f",
   "metadata": {},
   "source": [
    "### Per-Ticker Trade Detail Viewer"
   ]
  },
  {
   "cell_type": "code",
   "execution_count": null,
   "id": "e8843ff6",
   "metadata": {},
   "outputs": [],
   "source": [
    "ticker = 'AAPL'  # Change this to any ticker\n",
    "pd.read_csv(f'results/{ticker}_trades.csv').head()"
   ]
  }
 ],
 "metadata": {},
 "nbformat": 4,
 "nbformat_minor": 5
}
