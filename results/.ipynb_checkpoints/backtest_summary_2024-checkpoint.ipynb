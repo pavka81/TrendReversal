{
 "cells": [
  {
   "cell_type": "markdown",
   "id": "6044efe5",
   "metadata": {},
   "source": [
    "# Keltner Backtest Summary (2024)"
   ]
  },
  {
   "cell_type": "code",
   "execution_count": null,
   "id": "7b3f24f6",
   "metadata": {},
   "outputs": [],
   "source": [
    "import pandas as pd\n",
    "summary = pd.read_csv('results/summary_backtest_2024.csv')\n",
    "summary.head()"
   ]
  },
  {
   "cell_type": "markdown",
   "id": "fd2de995",
   "metadata": {},
   "source": [
    "### Win Rate vs Number of Trades"
   ]
  },
  {
   "cell_type": "code",
   "execution_count": null,
   "id": "877085fd",
   "metadata": {},
   "outputs": [],
   "source": [
    "from IPython.display import Image\n",
    "Image('results/debug_winrate_vs_trades.png')"
   ]
  },
  {
   "cell_type": "markdown",
   "id": "615dbb34",
   "metadata": {},
   "source": [
    "### Average Return vs Total Return"
   ]
  },
  {
   "cell_type": "code",
   "execution_count": null,
   "id": "7aec198c",
   "metadata": {},
   "outputs": [],
   "source": [
    "Image('results/debug_avg_vs_total_return.png')"
   ]
  },
  {
   "cell_type": "markdown",
   "id": "c541fd0a",
   "metadata": {},
   "source": [
    "### Distribution of Average Returns"
   ]
  },
  {
   "cell_type": "code",
   "execution_count": null,
   "id": "e962ff5f",
   "metadata": {},
   "outputs": [],
   "source": [
    "Image('results/debug_return_distribution.png')"
   ]
  },
  {
   "cell_type": "markdown",
   "id": "08d3aa82",
   "metadata": {},
   "source": [
    "### Per-Ticker Trade Detail Viewer"
   ]
  },
  {
   "cell_type": "code",
   "execution_count": null,
   "id": "a6369d28",
   "metadata": {},
   "outputs": [],
   "source": [
    "# Load and view any individual trade log\n",
    "ticker = 'AAPL'  # Change this to any valid ticker from tickers.txt\n",
    "trades = pd.read_csv(f'results/{ticker}_trades.csv')\n",
    "trades.head()"
   ]
  }
 ],
 "metadata": {},
 "nbformat": 4,
 "nbformat_minor": 5
}
