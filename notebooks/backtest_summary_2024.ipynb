{
 "cells": [
  {
   "cell_type": "markdown",
   "id": "ffcb6887",
   "metadata": {},
   "source": [
    "\n",
    "# Keltner Backtest Summary (2024)\n",
    "This report summarizes the backtest results of a strategy that buys stocks when they touch the lower Keltner Channel band and meet reversal conditions. We analyze trade quality, consistency, returns, and risk.\n"
   ]
  },
  {
   "cell_type": "markdown",
   "id": "4a55d10c",
   "metadata": {},
   "source": [
    "### Summary Table of Backtest Results"
   ]
  },
  {
   "cell_type": "code",
   "execution_count": null,
   "id": "ce609e0f",
   "metadata": {},
   "outputs": [],
   "source": [
    "import pandas as pd\n",
    "summary = pd.read_csv('../results/summary_backtest_2024.csv')\n",
    "summary.head()"
   ]
  },
  {
   "cell_type": "markdown",
   "id": "593fa305",
   "metadata": {},
   "source": [
    "### Win Rate vs Number of Trades\n",
    "This chart shows whether stocks with more trades tend to perform better or worse."
   ]
  },
  {
   "cell_type": "code",
   "execution_count": null,
   "id": "90ecc8b2",
   "metadata": {},
   "outputs": [],
   "source": [
    "from IPython.display import Image\n",
    "Image('../results/debug_winrate_vs_trades.png')"
   ]
  },
  {
   "cell_type": "markdown",
   "id": "31fe76a2",
   "metadata": {},
   "source": [
    "### Average Return vs Total Return\n",
    "This helps assess consistency. A stock with high average returns but few trades might be less reliable."
   ]
  },
  {
   "cell_type": "code",
   "execution_count": null,
   "id": "0f79131f",
   "metadata": {},
   "outputs": [],
   "source": [
    "from IPython.display import Image\n",
    "Image('../results/debug_avg_vs_total_return.png')"
   ]
  },
  {
   "cell_type": "markdown",
   "id": "e050851e",
   "metadata": {},
   "source": [
    "### Distribution of Average Returns\n",
    "This histogram shows how average trade returns vary across all tickers. A tight distribution indicates stability."
   ]
  },
  {
   "cell_type": "code",
   "execution_count": null,
   "id": "f7e4fb15",
   "metadata": {},
   "outputs": [],
   "source": [
    "from IPython.display import Image\n",
    "Image('../results/debug_return_distribution.png')"
   ]
  },
  {
   "cell_type": "markdown",
   "id": "00809b14",
   "metadata": {},
   "source": [
    "### Simulated Equity Curve\n",
    "Visualizes how your portfolio would have grown by following all trades in sequence. Upward slope is good."
   ]
  },
  {
   "cell_type": "code",
   "execution_count": null,
   "id": "df8e5549",
   "metadata": {},
   "outputs": [],
   "source": [
    "from IPython.display import Image\n",
    "Image('../results/debug_equity_curve.png')"
   ]
  },
  {
   "cell_type": "markdown",
   "id": "bf437bcf",
   "metadata": {},
   "source": [
    "### Monthly Return Distribution\n",
    "Boxplots for each month help spot when the strategy performs best (e.g., rebounds in volatile months)."
   ]
  },
  {
   "cell_type": "code",
   "execution_count": null,
   "id": "aa573c15",
   "metadata": {},
   "outputs": [],
   "source": [
    "from IPython.display import Image\n",
    "Image('../results/debug_monthly_return_boxplot.png')"
   ]
  },
  {
   "cell_type": "markdown",
   "id": "bdc86719",
   "metadata": {},
   "source": [
    "### Drawdown Curve\n",
    "Tracks the largest decline from a previous peak. The flatter the curve, the less risk you took."
   ]
  },
  {
   "cell_type": "code",
   "execution_count": null,
   "id": "38ed9353",
   "metadata": {},
   "outputs": [],
   "source": [
    "from IPython.display import Image\n",
    "Image('../results/debug_drawdown.png')"
   ]
  },
  {
   "cell_type": "markdown",
   "id": "0e5dc121",
   "metadata": {},
   "source": [
    "### Per-Ticker Trade Detail Viewer\n",
    "You can view trades for any ticker in the `results/` folder. Change the ticker to explore others."
   ]
  },
  {
   "cell_type": "code",
   "execution_count": null,
   "id": "8b6e7da5",
   "metadata": {},
   "outputs": [],
   "source": [
    "ticker = 'AAPL'  # Change to another ticker if desired\n",
    "try:\n",
    "    pd.read_csv(f'../results/{ticker}_trades.csv').head()\n",
    "except FileNotFoundError:\n",
    "    print(f'Trade file not found for {ticker}')"
   ]
  }
 ],
 "metadata": {},
 "nbformat": 4,
 "nbformat_minor": 5
}
