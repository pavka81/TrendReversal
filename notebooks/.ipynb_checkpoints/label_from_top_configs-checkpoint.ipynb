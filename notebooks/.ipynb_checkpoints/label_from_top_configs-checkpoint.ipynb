{
 "cells": [
  {
   "cell_type": "markdown",
   "id": "3ad0a2b1",
   "metadata": {},
   "source": [
    "# 🧠 Labeling from Top Rule-Based Configs\n",
    "\n",
    "This notebook prototypes labeling touch events as 'good bounces' using trades from top-performing rule-based strategies."
   ]
  },
  {
   "cell_type": "code",
   "execution_count": null,
   "id": "5edeb4a9",
   "metadata": {},
   "outputs": [],
   "source": [
    "# ✅ Setup\n",
    "import pandas as pd\n",
    "import json\n",
    "from pathlib import Path\n",
    "\n",
    "RESULTS_DIR = Path('../results')\n",
    "CONFIG_PATH = Path('../config/top_10_configs.json')\n",
    "TRADES_PATH = RESULTS_DIR / 'batch_backtest_results.csv'"
   ]
  },
  {
   "cell_type": "code",
   "execution_count": null,
   "id": "036ee2bb",
   "metadata": {},
   "outputs": [],
   "source": [
    "# ✅ Load top rule-based config IDs\n",
    "with open(CONFIG_PATH) as f:\n",
    "    top_configs = json.load(f)\n",
    "\n",
    "top_config_ids = [cfg['Config_ID'] for cfg in top_configs]\n",
    "print(f\"Loaded {len(top_config_ids)} top configs:\", top_config_ids)"
   ]
  },
  {
   "cell_type": "code",
   "execution_count": null,
   "id": "bbe402ae",
   "metadata": {},
   "outputs": [],
   "source": [
    "# ✅ Load all trades and keep only those from top configs\n",
    "all_trades = pd.read_csv(TRADES_PATH, parse_dates=['Entry Date', 'Exit Date'])\n",
    "top_trades = all_trades[all_trades['Config_ID'].isin(top_config_ids)].copy()\n",
    "print(f\"Filtered to {len(top_trades)} trades from top rule-based configs.\")\n",
    "top_trades.head()"
   ]
  },
  {
   "cell_type": "code",
   "execution_count": null,
   "id": "1b31d782",
   "metadata": {},
   "outputs": [],
   "source": [
    "# 🧪 Choose a sample ticker to prototype\n",
    "sample_ticker = 'AAPL'\n",
    "sample_trades = top_trades[top_trades['Ticker'] == sample_ticker]\n",
    "print(f\"Top trades for {sample_ticker}: {len(sample_trades)}\")\n",
    "sample_trades[['Entry Date', 'Return %']].head()"
   ]
  },
  {
   "cell_type": "code",
   "execution_count": null,
   "id": "484bc549",
   "metadata": {},
   "outputs": [],
   "source": [
    "# ✅ Load touch events (daily data) for selected ticker\n",
    "df_daily = pd.read_csv(f\"../stock_historical_information/daily/{sample_ticker}_daily.csv\", parse_dates=['Date'])\n",
    "\n",
    "# Simulate all rows as touch dates for now (could be refined later)\n",
    "df_touch = df_daily[['Date']].copy()\n",
    "df_touch['Label'] = df_touch['Date'].isin(sample_trades['Entry Date']).astype(int)\n",
    "df_touch.head()"
   ]
  },
  {
   "cell_type": "code",
   "execution_count": null,
   "id": "62a164fa",
   "metadata": {},
   "outputs": [],
   "source": [
    "# 📊 Show label distribution\n",
    "label_counts = df_touch['Label'].value_counts(normalize=True).rename_axis('Label').reset_index(name='Proportion')\n",
    "label_counts"
   ]
  }
 ],
 "metadata": {},
 "nbformat": 4,
 "nbformat_minor": 5
}
