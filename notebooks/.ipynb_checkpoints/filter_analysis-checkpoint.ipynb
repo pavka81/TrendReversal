{
 "cells": [
  {
   "cell_type": "markdown",
   "id": "20338687",
   "metadata": {},
   "source": [
    "# Filter Impact Analysis\n",
    "\n",
    "This notebook visualizes and compares the performance of all 128 filter combinations from `batch_run_filters.py`."
   ]
  },
  {
   "cell_type": "code",
   "execution_count": null,
   "id": "bea005f7",
   "metadata": {},
   "outputs": [],
   "source": [
    "import pandas as pd\n",
    "import matplotlib.pyplot as plt\n",
    "import seaborn as sns\n",
    "\n",
    "# Load results\n",
    "results_path = '../results/batch_backtest_results.csv'\n",
    "df = pd.read_csv(results_path)\n",
    "df.head()"
   ]
  },
  {
   "cell_type": "code",
   "execution_count": null,
   "id": "01a03045",
   "metadata": {},
   "outputs": [],
   "source": [
    "# Aggregate results by filter configuration\n",
    "summary = df.groupby('Config_ID').agg(\n",
    "    Trades=('Return %', 'count'),\n",
    "    WinRate=('Return %', lambda x: (x > 0).mean()),\n",
    "    AvgReturn=('Return %', 'mean')\n",
    ").reset_index()\n",
    "\n",
    "summary = summary.sort_values(by='AvgReturn', ascending=False)\n",
    "summary.head(10)"
   ]
  },
  {
   "cell_type": "code",
   "execution_count": null,
   "id": "97a8aea1",
   "metadata": {},
   "outputs": [],
   "source": [
    "plt.figure(figsize=(10, 6))\n",
    "sns.scatterplot(data=summary, x='Trades', y='AvgReturn', hue='WinRate', palette='coolwarm', size='WinRate', sizes=(50, 200))\n",
    "plt.title('Avg Return vs Trade Count per Config')\n",
    "plt.xlabel('Number of Trades')\n",
    "plt.ylabel('Average Return %')\n",
    "plt.grid(True)\n",
    "plt.show()"
   ]
  },
  {
   "cell_type": "code",
   "execution_count": null,
   "id": "a8cde171",
   "metadata": {},
   "outputs": [],
   "source": [
    "# Analyze filter impact\n",
    "filters = [col for col in df.columns if col.startswith('USE_')]\n",
    "impact = df[filters + ['Return %']].copy()\n",
    "impact['Win'] = impact['Return %'] > 0\n",
    "\n",
    "filter_summary = impact.groupby(filters)['Win'].agg(['mean', 'count']).reset_index()\n",
    "filter_summary = filter_summary.sort_values(by='mean', ascending=False)\n",
    "filter_summary.head()"
   ]
  }
 ],
 "metadata": {},
 "nbformat": 4,
 "nbformat_minor": 5
}
