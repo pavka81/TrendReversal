{
 "cells": [
  {
   "cell_type": "code",
   "execution_count": 5,
   "id": "72e4f085-8516-4f3f-8e4d-a8ef7600059c",
   "metadata": {},
   "outputs": [
    {
     "name": "stdout",
     "output_type": "stream",
     "text": [
      "Project root on path: True\n"
     ]
    }
   ],
   "source": [
    "import sys\n",
    "from pathlib import Path\n",
    "\n",
    "# 1. Compute PROJECT_ROOT as the parent of the notebooks folder\n",
    "HERE         = Path().resolve()\n",
    "PROJECT_ROOT = HERE.parent\n",
    "print(\"Notebook is running from:\", HERE)\n",
    "print(\"Project root deduced as:\", PROJECT_ROOT)\n",
    "\n",
    "# 2. Add project root to sys.path so `import src.*` works\n",
    "sys.path.insert(0, str(PROJECT_ROOT))\n",
    "\n",
    "# 3. Sanity-check your data folders\n",
    "daily_folder  = PROJECT_ROOT / \"stock_historical_information\" / \"daily\"\n",
    "weekly_folder = PROJECT_ROOT / \"stock_historical_information\" / \"weekly\"\n",
    "print(\"Daily folder exists:\",  daily_folder.exists())\n",
    "print(\"Weekly folder exists:\", weekly_folder.exists())\n"
   ]
  },
  {
   "cell_type": "code",
   "execution_count": 18,
   "id": "d3f26c23-2ed4-429b-a89b-8e6fc39d466e",
   "metadata": {},
   "outputs": [
    {
     "name": "stdout",
     "output_type": "stream",
     "text": [
      "Discovered project root: /Users/pavferna/Desktop/finance/4.TrendReversal\n",
      "Working dir now: /Users/pavferna/Desktop/finance/4.TrendReversal\n",
      "Daily folder exists: True\n",
      "Weekly folder exists: True\n",
      "\n",
      "Loading daily data for csco from:\n",
      "  /Users/pavferna/Desktop/finance/4.TrendReversal/stock_historical_information/daily/csco_daily.csv\n",
      "\n",
      "Feature importances:\n",
      "rsi             0.200394\n",
      "dist_pct        0.164548\n",
      "ema22_diff      0.161601\n",
      "ema11_diff      0.158536\n",
      "efi             0.156952\n",
      "macd_center     0.150722\n",
      "weekly_touch    0.007247\n"
     ]
    },
    {
     "data": {
      "image/png": "[encoded data removed]",
      "text/plain": [
       "<Figure size 640x480 with 1 Axes>"
      ]
     },
     "metadata": {},
     "output_type": "display_data"
    }
   ],
   "source": [
    "# ──────────────────────────────────────────────────────────────────────────────\n",
    "# Cell 2: Auto-discover project root, load data, rebuild X/y, train, and plot importances\n",
    "# ──────────────────────────────────────────────────────────────────────────────\n",
    "\n",
    "import sys\n",
    "import os\n",
    "from pathlib import Path\n",
    "\n",
    "# 1) Find the project root by locating 'stock_historical_information' anywhere under cwd\n",
    "cwd = Path().resolve()\n",
    "matches = list(cwd.rglob(\"stock_historical_information\"))\n",
    "if not matches:\n",
    "    raise FileNotFoundError(\n",
    "        f\"Could not find 'stock_historical_information' under {cwd}\"\n",
    "    )\n",
    "# we'll take the first match\n",
    "project_root = matches[0].parent\n",
    "print(\"Discovered project root:\", project_root)\n",
    "\n",
    "# 2) Add src/ to sys.path and chdir to project_root\n",
    "sys.path.insert(0, str(project_root))\n",
    "os.chdir(project_root)\n",
    "print(\"Working dir now:\", os.getcwd())\n",
    "\n",
    "# 3) Define your data folders and sanity-check\n",
    "daily_folder  = project_root / \"stock_historical_information\" / \"daily\"\n",
    "weekly_folder = project_root / \"stock_historical_information\" / \"weekly\"\n",
    "print(\"Daily folder exists:\", daily_folder.exists())\n",
    "print(\"Weekly folder exists:\", weekly_folder.exists())\n",
    "\n",
    "# 4) Bring in your pipeline functions\n",
    "import pandas as pd\n",
    "from src.utils            import load_csv\n",
    "from src.detection        import find_daily_touches, find_weekly_touches\n",
    "from src.labeling         import label_reversals\n",
    "from src.features         import build_feature_matrix\n",
    "from src.model            import train_model\n",
    "from src.analysis         import show_feature_importances, plot_feature_importances\n",
    "\n",
    "# ──────────────────────────────────────────────────────────────────────────────\n",
    "# 5) Pick a ticker and load its full series\n",
    "# ──────────────────────────────────────────────────────────────────────────────\n",
    "\n",
    "# select ticker here\n",
    "ticker   = \"csco\"\n",
    "csv_path = daily_folder / f\"{ticker}_daily.csv\"\n",
    "assert csv_path.exists(), f\"Missing CSV at {csv_path}\"\n",
    "print(f\"\\nLoading daily data for {ticker} from:\\n  {csv_path}\")\n",
    "df_full = load_csv(str(csv_path))\n",
    "\n",
    "# ──────────────────────────────────────────────────────────────────────────────\n",
    "# 6) Reconstruct your event table and feature matrix\n",
    "# ──────────────────────────────────────────────────────────────────────────────\n",
    "\n",
    "daily_events  = find_daily_touches(ticker)\n",
    "weekly_events = find_weekly_touches(ticker)\n",
    "labeled = label_reversals(\n",
    "    df_full,\n",
    "    daily_events.index.to_list(),\n",
    "    lookahead=[1, 2]\n",
    ")\n",
    "events = daily_events.join(\n",
    "    labeled[['Close_t','Reversal','First_Reversal_Day','First_Reversal_Date']]\n",
    ")\n",
    "X, y = build_feature_matrix(events, weekly_events)\n",
    "\n",
    "# ──────────────────────────────────────────────────────────────────────────────\n",
    "# 7) Train a final model on all available data\n",
    "# ──────────────────────────────────────────────────────────────────────────────\n",
    "\n",
    "final_model = train_model(X, y)\n",
    "\n",
    "# ──────────────────────────────────────────────────────────────────────────────\n",
    "# 8) Compute and display feature importances\n",
    "# ──────────────────────────────────────────────────────────────────────────────\n",
    "\n",
    "imps = show_feature_importances(final_model, X.columns.tolist())\n",
    "\n",
    "# ──────────────────────────────────────────────────────────────────────────────\n",
    "# 9) Plot the top 7 most important features, with ticker in the title\n",
    "# ──────────────────────────────────────────────────────────────────────────────\n",
    "\n",
    "import matplotlib.pyplot as plt\n",
    "\n",
    "# grab & sort just the top 7\n",
    "top_imp = imps.head(7).sort_values()\n",
    "\n",
    "fig, ax = plt.subplots()\n",
    "top_imp.plot.barh(ax=ax)\n",
    "\n",
    "# Center your ticker name in the title\n",
    "ax.set_title(f\"{ticker} \\n Feature Importances\", loc='center')\n",
    "ax.set_xlabel(\"Importance\")\n",
    "\n",
    "plt.tight_layout()\n",
    "plt.show()\n",
    "\n",
    "\n",
    "\n",
    "\n"
   ]
  },
  {
   "cell_type": "code",
   "execution_count": null,
   "id": "c79c9208-9dfd-44aa-9f96-4df78e1cc5a8",
   "metadata": {},
   "outputs": [],
   "source": []
  }
 ],
 "metadata": {
  "kernelspec": {
   "display_name": "Python 3 (ipykernel)",
   "language": "python",
   "name": "python3"
  },
  "language_info": {
   "codemirror_mode": {
    "name": "ipython",
    "version": 3
   },
   "file_extension": ".py",
   "mimetype": "text/x-python",
   "name": "python",
   "nbconvert_exporter": "python",
   "pygments_lexer": "ipython3",
   "version": "3.13.1"
  }
 },
 "nbformat": 4,
 "nbformat_minor": 5
}
