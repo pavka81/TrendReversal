{
 "cells": [
  {
   "cell_type": "markdown",
   "id": "e1c021a9",
   "metadata": {},
   "source": [
    "# 📊 Compare Rule-Based Strategy vs. ML Model\n",
    "\n",
    "This notebook benchmarks the top 10 rule-based configurations against your ML pipeline output.\n",
    "- Rule-based data from: `results/batch_backtest_results.csv`\n",
    "- Top configs loaded from: `configs/top_10_configs.json`\n",
    "- ML predictions loaded from your existing pipeline outputs\n"
   ]
  },
  {
   "cell_type": "code",
   "execution_count": null,
   "id": "a0ac2090",
   "metadata": {},
   "outputs": [],
   "source": [
    "import pandas as pd\n",
    "import matplotlib.pyplot as plt\n",
    "import seaborn as sns\n",
    "import json\n",
    "\n",
    "# Load data\n",
    "rule_results = pd.read_csv('../results/batch_backtest_results.csv')\n",
    "with open('../configs/top_10_configs.json', 'r') as f:\n",
    "    top_configs = pd.DataFrame(json.load(f))\n",
    "\n",
    "# Preview\n",
    "top_configs"
   ]
  },
  {
   "cell_type": "code",
   "execution_count": null,
   "id": "0fea7b94",
   "metadata": {},
   "outputs": [],
   "source": [
    "# Filter rule-based trades to include only top 10 configs\n",
    "rule_filtered = rule_results[rule_results['Config_ID'].isin(top_configs['Config_ID'])]\n",
    "print(f'Total rule-based trades: {len(rule_filtered)}')\n",
    "rule_filtered.head()"
   ]
  },
  {
   "cell_type": "code",
   "execution_count": null,
   "id": "6c1ec165",
   "metadata": {},
   "outputs": [],
   "source": [
    "# 🔁 Replace this with actual ML output loading\n",
    "# Example assumes output like: ticker, entry_date, exit_date, return\n",
    "\n",
    "# ml_predictions = pd.read_csv('../results/ml_predictions.csv')\n",
    "# ml_predictions.head()"
   ]
  },
  {
   "cell_type": "code",
   "execution_count": null,
   "id": "7d322b12",
   "metadata": {},
   "outputs": [],
   "source": [
    "rule_summary = rule_filtered.groupby('Config_ID').agg(\n",
    "    Trades=('Return %', 'count'),\n",
    "    WinRate=('Return %', lambda x: (x > 0).mean()),\n",
    "    AvgReturn=('Return %', 'mean')\n",
    ").reset_index()\n",
    "\n",
    "rule_summary"
   ]
  },
  {
   "cell_type": "markdown",
   "id": "872fe81a",
   "metadata": {},
   "source": [
    "## ⚠️ Manual Step: Load your ML pipeline predictions\n",
    "- Add ML output as a new DataFrame (`ml_predictions`)\n",
    "- Aggregate by ticker and compare:\n",
    "  - Avg return\n",
    "  - Win rate\n",
    "  - Trade frequency\n"
   ]
  }
 ],
 "metadata": {},
 "nbformat": 4,
 "nbformat_minor": 5
}
