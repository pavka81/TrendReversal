{
 "cells": [
  {
   "cell_type": "markdown",
   "id": "e1ce6f53",
   "metadata": {},
   "source": [
    "\n",
    "# Keltner Backtest Summary (2024)\n",
    "This report summarizes the backtest results of a strategy that buys stocks when they touch the lower Keltner Channel band and meet reversal conditions. We analyze trade quality, consistency, returns, and risk.\n"
   ]
  },
  {
   "cell_type": "markdown",
   "id": "fc1b664f",
   "metadata": {},
   "source": [
    "### Summary Table of Backtest Results"
   ]
  },
  {
   "cell_type": "code",
   "execution_count": null,
   "id": "c85709f4",
   "metadata": {},
   "outputs": [],
   "source": [
    "import pandas as pd\n",
    "summary = pd.read_csv('../results/summary_backtest_2024.csv')\n",
    "summary.head()"
   ]
  },
  {
   "cell_type": "markdown",
   "id": "d0bd7833",
   "metadata": {},
   "source": [
    "### Win Rate vs Number of Trades\n",
    "This chart shows whether stocks with more trades tend to perform better or worse."
   ]
  },
  {
   "cell_type": "code",
   "execution_count": null,
   "id": "3b72e179",
   "metadata": {},
   "outputs": [],
   "source": [
    "from IPython.display import Image\n",
    "Image('../results/debug_winrate_vs_trades.png')"
   ]
  },
  {
   "cell_type": "markdown",
   "id": "465be4cd",
   "metadata": {},
   "source": [
    "### Average Return vs Total Return\n",
    "This helps assess consistency. A stock with high average returns but few trades might be less reliable."
   ]
  },
  {
   "cell_type": "code",
   "execution_count": null,
   "id": "af32bf63",
   "metadata": {},
   "outputs": [],
   "source": [
    "from IPython.display import Image\n",
    "Image('../results/debug_avg_vs_total_return.png')"
   ]
  },
  {
   "cell_type": "markdown",
   "id": "00965f29",
   "metadata": {},
   "source": [
    "### Distribution of Average Returns\n",
    "This histogram shows how average trade returns vary across all tickers. A tight distribution indicates stability."
   ]
  },
  {
   "cell_type": "code",
   "execution_count": null,
   "id": "64de130d",
   "metadata": {},
   "outputs": [],
   "source": [
    "from IPython.display import Image\n",
    "Image('../results/debug_return_distribution.png')"
   ]
  },
  {
   "cell_type": "markdown",
   "id": "15188bc4",
   "metadata": {},
   "source": [
    "### Simulated Equity Curve\n",
    "Visualizes how your portfolio would have grown by following all trades in sequence. Upward slope is good."
   ]
  },
  {
   "cell_type": "code",
   "execution_count": null,
   "id": "17a053ed",
   "metadata": {},
   "outputs": [],
   "source": [
    "from IPython.display import Image\n",
    "Image('../results/debug_equity_curve.png')"
   ]
  },
  {
   "cell_type": "markdown",
   "id": "1b673990",
   "metadata": {},
   "source": [
    "### Monthly Return Distribution\n",
    "Boxplots for each month help spot when the strategy performs best (e.g., rebounds in volatile months)."
   ]
  },
  {
   "cell_type": "code",
   "execution_count": null,
   "id": "773c059e",
   "metadata": {},
   "outputs": [],
   "source": [
    "from IPython.display import Image\n",
    "Image('../results/debug_monthly_return_boxplot.png')"
   ]
  },
  {
   "cell_type": "markdown",
   "id": "75052cd4",
   "metadata": {},
   "source": [
    "### Drawdown Curve\n",
    "Tracks the largest decline from a previous peak. The flatter the curve, the less risk you took."
   ]
  },
  {
   "cell_type": "code",
   "execution_count": null,
   "id": "de6e5f0f",
   "metadata": {},
   "outputs": [],
   "source": [
    "from IPython.display import Image\n",
    "Image('../results/debug_drawdown.png')"
   ]
  },
  {
   "cell_type": "markdown",
   "id": "761dfb94",
   "metadata": {},
   "source": [
    "### Per-Ticker Trade Detail Viewer\n",
    "You can view trades for any ticker in the `results/` folder. Change the ticker to explore others."
   ]
  },
  {
   "cell_type": "code",
   "execution_count": null,
   "id": "a3f3847a",
   "metadata": {},
   "outputs": [],
   "source": [
    "ticker = 'AAPL'  # Change to another ticker if desired\n",
    "try:\n",
    "    pd.read_csv(f'../results/{ticker}_trades.csv').head()\n",
    "except FileNotFoundError:\n",
    "    print(f'Trade file not found for {ticker}')"
   ]
  }
 ],
 "metadata": {},
 "nbformat": 4,
 "nbformat_minor": 5
}
