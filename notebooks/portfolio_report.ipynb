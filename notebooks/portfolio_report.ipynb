{
 "cells": [
  {
   "cell_type": "markdown",
   "id": "4ac0a848",
   "metadata": {},
   "source": [
    "# 📊 Portfolio Report — Keltner Channel Strategy"
   ]
  },
  {
   "cell_type": "markdown",
   "id": "20b679c8",
   "metadata": {},
   "source": [
    "*Report generated on: `2025-05-09 11:02:43`*"
   ]
  },
  {
   "cell_type": "markdown",
   "id": "dc152f46",
   "metadata": {},
   "source": [
    "This report provides a strategic overview of the Keltner-based trading strategy across a portfolio of stocks."
   ]
  },
  {
   "cell_type": "markdown",
   "id": "1d2af77e",
   "metadata": {},
   "source": [
    "## 🔹 Summary Table"
   ]
  },
  {
   "cell_type": "code",
   "execution_count": null,
   "id": "4306c4e2",
   "metadata": {},
   "outputs": [],
   "source": [
    "import pandas as pd\n",
    "summary = pd.read_csv('../results/summary_backtest_2024.csv')\n",
    "summary.head()"
   ]
  },
  {
   "cell_type": "markdown",
   "id": "9ccc6697",
   "metadata": {},
   "source": [
    "## 🔹 Win Rate vs Number of Trades\n",
    "This chart shows how frequently the strategy won (profitable trades) for each stock, plotted against the number of trades taken. Stocks in the upper-right corner have many trades and high win rates — ideal candidates."
   ]
  },
  {
   "cell_type": "code",
   "execution_count": null,
   "id": "17e6680e",
   "metadata": {},
   "outputs": [],
   "source": [
    "from IPython.display import Image\n",
    "Image('../results/debug_winrate_vs_trades.png')"
   ]
  },
  {
   "cell_type": "markdown",
   "id": "0b6b4fe8",
   "metadata": {},
   "source": [
    "## 🔹 Average Return vs Total Return\n",
    "This plot shows how profitable each stock was, both on a per-trade basis (average) and in total. It highlights stocks with consistent and high-yielding trades."
   ]
  },
  {
   "cell_type": "code",
   "execution_count": null,
   "id": "1b340f20",
   "metadata": {},
   "outputs": [],
   "source": [
    "Image('../results/debug_avg_vs_total_return.png')"
   ]
  },
  {
   "cell_type": "markdown",
   "id": "885d14c6",
   "metadata": {},
   "source": [
    "## 🔹 Distribution of Average Returns\n",
    "This histogram illustrates how average returns are distributed across all stocks. It helps identify whether returns are skewed or tightly clustered."
   ]
  },
  {
   "cell_type": "code",
   "execution_count": null,
   "id": "8198fd83",
   "metadata": {},
   "outputs": [],
   "source": [
    "Image('../results/debug_return_distribution.png')"
   ]
  },
  {
   "cell_type": "markdown",
   "id": "d17d0aec",
   "metadata": {},
   "source": [
    "## 🔹 Simulated Equity Curve\n",
    "This chart shows the simulated portfolio value over time if each trade had been executed sequentially. A rising curve indicates growing capital."
   ]
  },
  {
   "cell_type": "code",
   "execution_count": null,
   "id": "521c249b",
   "metadata": {},
   "outputs": [],
   "source": [
    "Image('../results/debug_equity_curve.png')"
   ]
  },
  {
   "cell_type": "markdown",
   "id": "0b23867d",
   "metadata": {},
   "source": [
    "## 🔹 Monthly Return Distribution\n",
    "Each box represents the spread of trade returns in a specific month. This shows whether the strategy performs better in specific months."
   ]
  },
  {
   "cell_type": "code",
   "execution_count": null,
   "id": "55ba4329",
   "metadata": {},
   "outputs": [],
   "source": [
    "Image('../results/debug_monthly_return_boxplot.png')"
   ]
  },
  {
   "cell_type": "markdown",
   "id": "389b2b26",
   "metadata": {},
   "source": [
    "## 🔹 Drawdown Curve\n",
    "This curve shows the worst-case decline from prior peaks. Shallow or infrequent drawdowns indicate more stable strategies."
   ]
  },
  {
   "cell_type": "code",
   "execution_count": null,
   "id": "87fcb4f3",
   "metadata": {},
   "outputs": [],
   "source": [
    "Image('../results/debug_drawdown.png')"
   ]
  },
  {
   "cell_type": "markdown",
   "id": "b0bc961b",
   "metadata": {},
   "source": [
    "## 🔹 Per-Ticker Trade Detail"
   ]
  },
  {
   "cell_type": "code",
   "execution_count": null,
   "id": "ec24e968",
   "metadata": {},
   "outputs": [],
   "source": [
    "# Replace 'AAPL' with any ticker to view that stock's trade log\n",
    "ticker = 'AAPL'\n",
    "pd.read_csv(f'../results/{ticker}_trades.csv').head()"
   ]
  }
 ],
 "metadata": {},
 "nbformat": 4,
 "nbformat_minor": 5
}
